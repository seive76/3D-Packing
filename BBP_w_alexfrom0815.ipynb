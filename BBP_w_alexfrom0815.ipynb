{
 "cells": [
  {
   "cell_type": "markdown",
   "metadata": {},
   "source": [
    "# Simple 2D packing example with simple boxes\n"
   ]
  },
  {
   "cell_type": "markdown",
   "metadata": {},
   "source": [
    "### Redoing. Cite for new attempt.\n",
    "\n",
    "@inproceedings{\n",
    "zhao2022learning,\n",
    "title={Learning Efficient Online 3D Bin Packing on Packing Configuration Trees},\n",
    "author={Hang Zhao and Yang Yu and Kai Xu},\n",
    "booktitle={International Conference on Learning Representations},\n",
    "year={2022},\n",
    "url={https://openreview.net/forum?id=bfuGjlCwAq}\n",
    "}"
   ]
  },
  {
   "cell_type": "markdown",
   "metadata": {},
   "source": [
    "# Working one piece at a time:"
   ]
  },
  {
   "cell_type": "markdown",
   "metadata": {},
   "source": [
    "## Bounding Box\n",
    "\n",
    "Reference: [Computing bounding box for a list of coordinates in Python](https://techoverflow.net/2017/02/23/computing-bounding-box-for-a-list-of-coordinates-in-python/)"
   ]
  },
  {
   "cell_type": "markdown",
   "metadata": {},
   "source": [
    "libraries for bounding box"
   ]
  },
  {
   "cell_type": "code",
   "execution_count": 6,
   "metadata": {},
   "outputs": [
    {
     "name": "stdout",
     "output_type": "stream",
     "text": [
      "/bin/bash: /home/cim/anaconda3/envs/packing_env/lib/libtinfo.so.6: no version information available (required by /bin/bash)\n",
      "Collecting git+https://github.com/ulikoehler/UliEngineering.git\n",
      "  Cloning https://github.com/ulikoehler/UliEngineering.git to /tmp/pip-req-build-jeaatqex\n",
      "  Running command git clone -q https://github.com/ulikoehler/UliEngineering.git /tmp/pip-req-build-jeaatqex\n",
      "  Resolved https://github.com/ulikoehler/UliEngineering.git to commit f4d25d3f76925a0fc4f64aacf908db3f639baa64\n",
      "Requirement already satisfied: numpy>=1.5 in /home/cim/anaconda3/envs/packing_env/lib/python3.7/site-packages (from UliEngineering==0.3.8) (1.21.4)\n",
      "Collecting toolz>=0.5\n",
      "  Downloading toolz-0.12.0-py3-none-any.whl (55 kB)\n",
      "\u001b[K     |████████████████████████████████| 55 kB 3.7 MB/s eta 0:00:01\n",
      "\u001b[?25hBuilding wheels for collected packages: UliEngineering\n",
      "  Building wheel for UliEngineering (setup.py) ... \u001b[?25ldone\n",
      "\u001b[?25h  Created wheel for UliEngineering: filename=UliEngineering-0.3.8-py3-none-any.whl size=96069 sha256=d81f6d5cfe22580b0e6d294ab12ed24f4747d7cf05ae254c7ecda9939154549d\n",
      "  Stored in directory: /tmp/pip-ephem-wheel-cache-a2g1b1e4/wheels/fc/5d/63/5f11d6e16f564c28980f18ccf9c7ac74e07acf515a2148c202\n",
      "Successfully built UliEngineering\n",
      "Installing collected packages: toolz, UliEngineering\n",
      "Successfully installed UliEngineering-0.3.8 toolz-0.12.0\n"
     ]
    }
   ],
   "source": [
    "!pip install git+https://github.com/ulikoehler/UliEngineering.git"
   ]
  },
  {
   "cell_type": "code",
   "execution_count": 7,
   "metadata": {},
   "outputs": [],
   "source": [
    "import numpy as np\n",
    "from UliEngineering.Math.Coordinates import BoundingBox"
   ]
  },
  {
   "cell_type": "markdown",
   "metadata": {},
   "source": [
    "Using the BoundingBox function:\n",
    "Feed a list of coordinate pairs: `coords = np.asarray(coords)`\n",
    "\n",
    "\n",
    "Where \n",
    "\n",
    "\n",
    "          coords = [(6.74219, -53.57835),\n",
    "                    (6.74952, -53.57241),\n",
    "                    (6.75652, -53.56289),\n",
    "                    (6.74756, -53.56598),\n",
    "                    (6.73462, -53.57518)]\n",
    "\n",
    "for example\n",
    "\n",
    "Then use the function:\n",
    "            `BoundingBox(coords)`"
   ]
  },
  {
   "cell_type": "markdown",
   "metadata": {},
   "source": [
    "## Empty Maximal Spaces\n",
    "\n",
    "Representation of free space in the bin.\n",
    "\n",
    "One reference [Simulated Annealing](https://github.com/setarehabhari/Simulated-Annealing/blob/main/SA-CSP.ipynb), but I don't understand temperature"
   ]
  },
  {
   "cell_type": "markdown",
   "metadata": {},
   "source": [
    "## Environment\n",
    "\n",
    "### Wrapper on gym.env for a Discrete class (our bin in 1 cm squares). Reference [Gym Wrappers](https://alexandervandekleut.github.io/gym-wrappers/)\n",
    "\n",
    "                    class DiscreteToBoxWrapper(gym.ObservationWrapper):\n",
    "                        def __init__(self, env):\n",
    "                            super().__init__(env)\n",
    "                            assert isinstance(env.observation_space, gym.spaces.Discrete), \\\n",
    "                                \"Should only be used to wrap Discrete envs.\"\n",
    "                            self.n = self.observation_space.n\n",
    "                            self.observation_space = gym.spaces.Box(0, 1, (self.n,))\n",
    "\n",
    "                        def observation(self, obs):\n",
    "                            new_obs = np.zeros(self.n)\n",
    "                            new_obs[obs] = 1\n",
    "                            return new_obs\n",
    "\n",
    "### Reshape 2D array to 1D to feed through neural network"
   ]
  },
  {
   "cell_type": "markdown",
   "metadata": {},
   "source": [
    "## Ray"
   ]
  },
  {
   "cell_type": "markdown",
   "metadata": {},
   "source": [
    "Example hyperparameters for neural network"
   ]
  },
  {
   "cell_type": "code",
   "execution_count": 8,
   "metadata": {},
   "outputs": [],
   "source": [
    "Bin_x, Bin_y = 600, 600\n",
    "\n",
    "H = 200  # The number of hidden layer neurons.\n",
    "gamma = 0.99  # The discount factor for reward. <- Not sure on this one\n",
    "decay_rate = 0.99  # The decay factor for RMSProp leaky sum of grad^2.\n",
    "D = Bin_x * Bin_y  # The input dimensionality: 600x600 grid.\n",
    "learning_rate = 1e-4  # Magnitude of the update."
   ]
  },
  {
   "cell_type": "markdown",
   "metadata": {},
   "source": [
    "Neural Network from [Ray Ping Pong example](https://docs.ray.io/en/latest/ray-core/examples/plot_pong_example.html#neural-network) and [Karpathy pg-pong.py GitHub](https://gist.github.com/karpathy/a4166c7fe253700972fcbc77e4ea32c5)"
   ]
  },
  {
   "cell_type": "code",
   "execution_count": null,
   "metadata": {},
   "outputs": [],
   "source": [
    "class Model(object):\n",
    "    \"\"\"This class holds the neural network weights.\"\"\"\n",
    "\n",
    "    def __init__(self):\n",
    "        self.weights = {}\n",
    "        self.weights[\"W1\"] = np.random.randn(H, D) / np.sqrt(D)\n",
    "        self.weights[\"W2\"] = np.random.randn(H) / np.sqrt(H)\n",
    "\n",
    "    def policy_forward(self, x):\n",
    "        h = np.dot(self.weights[\"W1\"], x)\n",
    "        h[h < 0] = 0  # ReLU nonlinearity.\n",
    "        logp = np.dot(self.weights[\"W2\"], h)\n",
    "        # Softmax\n",
    "        p = 1.0 / (1.0 + np.exp(-logp))\n",
    "        # Return probability of taking action 2, and hidden state.\n",
    "        return p, h\n",
    "\n",
    "    def policy_backward(self, eph, epx, epdlogp):\n",
    "        \"\"\"Backward pass to calculate gradients.\n",
    "\n",
    "        Arguments:\n",
    "            eph: Array of intermediate hidden states.\n",
    "            epx: Array of experiences (observations.\n",
    "            epdlogp: Array of logps (output of last layer before softmax/\n",
    "\n",
    "        \"\"\"\n",
    "        dW2 = np.dot(eph.T, epdlogp).ravel()\n",
    "        dh = np.outer(epdlogp, self.weights[\"W2\"])\n",
    "        # Backprop relu.\n",
    "        dh[eph <= 0] = 0\n",
    "        dW1 = np.dot(dh.T, epx)\n",
    "        return {\"W1\": dW1, \"W2\": dW2}\n",
    "\n",
    "    def update(self, grad_buffer, rmsprop_cache, lr, decay):\n",
    "        \"\"\"Applies the gradients to the model parameters with RMSProp.\"\"\"\n",
    "        for k, v in self.weights.items():\n",
    "            g = grad_buffer[k]\n",
    "            rmsprop_cache[k] = decay * rmsprop_cache[k] + (1 - decay) * g ** 2\n",
    "            self.weights[k] += lr * g / (np.sqrt(rmsprop_cache[k]) + 1e-5)\n",
    "\n",
    "\n",
    "def zero_grads(grad_buffer):\n",
    "    \"\"\"Reset the batch gradient buffer.\"\"\"\n",
    "    for k, v in grad_buffer.items():\n",
    "        grad_buffer[k] = np.zeros_like(v)"
   ]
  },
  {
   "cell_type": "markdown",
   "metadata": {},
   "source": [
    "# Previous attempt below\n",
    "(May want to have for later)"
   ]
  },
  {
   "cell_type": "markdown",
   "metadata": {},
   "source": [
    "Import libraries"
   ]
  },
  {
   "cell_type": "code",
   "execution_count": 1,
   "metadata": {},
   "outputs": [
    {
     "name": "stderr",
     "output_type": "stream",
     "text": [
      "/home/cim/anaconda3/envs/packing_env/lib/python3.7/site-packages/ale_py/roms/__init__.py:89: DeprecationWarning: Automatic importing of atari-py roms won't be supported in future releases of ale-py. Please migrate over to using `ale-import-roms` OR an ALE-supported ROM package. To make this warning disappear you can run `ale-import-roms --import-from-pkg atari_py.atari_roms`.For more information see: https://github.com/mgbellemare/Arcade-Learning-Environment#rom-management\n",
      "  ROMS = resolve_roms()\n"
     ]
    }
   ],
   "source": [
    "import numpy as np \n",
    "import cv2 \n",
    "import matplotlib.pyplot as plt\n",
    "import PIL.Image as Image\n",
    "import gym\n",
    "import random\n",
    "\n",
    "from gym import Env, spaces\n",
    "import time\n",
    "\n",
    "font = cv2.FONT_HERSHEY_COMPLEX_SMALL "
   ]
  },
  {
   "cell_type": "markdown",
   "metadata": {},
   "source": [
    "In this environment an agent places 2D boxes in a 2D container.\n",
    "1. The agent needs to pack as many boxes as possible without overlapping them.\n",
    "2. The episode terminates when the container is full or no more boxes can be placed."
   ]
  },
  {
   "cell_type": "markdown",
   "metadata": {},
   "source": [
    "### ContainerLevel Class\n",
    "Creating a class to model the bottom level of a shipping container.\n",
    "* Define in the `__init__` function the observation and the action spaces.\n",
    "* Implement attribute `canvas` \n",
    "* Implement screen area `x_min, y_min, x_max, y_max`\n",
    "* Implement `elements` - this stores elements in the screen (the already packed box)\n",
    "* helper function `draw_elements_on_canvas` that places the boxes icons in the container at their respective positions\n",
    "* `reset` : resets the environment to its initial state and returns the initial observation.\n",
    "* `step`: Executes a step by placing a box in the environment\n",
    "    * returns the new observation\n",
    "    * reward\n",
    "    * completion status\n",
    "    * and other information"
   ]
  },
  {
   "cell_type": "code",
   "execution_count": 16,
   "metadata": {},
   "outputs": [],
   "source": [
    "class ContainerLevel(Env):\n",
    "    def __init__(self, obs_x=600, obs_y=600, box_len=200, box_wid=200):\n",
    "        super(ContainerLevel, self).__init__()\n",
    "\n",
    "        # Define 2D packing space\n",
    "        self.observation_shape = (obs_x, obs_y, 3) # **Need to have dimensions passed\n",
    "        self.observation_space = spaces.Box(low = np.zeros(self.observation_space),\n",
    "                                            high = np.ones(self.observation_space),\n",
    "                                            dtype = np.float64)\n",
    "\n",
    "        # Define an action space\n",
    "        self.action_space = spaces.Discrete(6, ) # what is the 6?\n",
    "\n",
    "        # Creating a canvas for rendering\n",
    "        self.canvas = np.ones(self.observation_shape) * 1\n",
    "\n",
    "        # Define elements present in the environment\n",
    "        self.elements = []\n",
    "\n",
    "        # Permissible area where the boxes can be located in container\n",
    "        # **need to adjust this to be smaller when there are other boxes\n",
    "        # Pass information back to space with 2D grid of heights.\n",
    "        self.y_min = int(self.observation_shape[0] * 0.1)\n",
    "        self.x_min = 0\n",
    "        self.y_max = int(self.observation_shape[0] * 0.9)\n",
    "        self.x_max = self.observation_shape[1]\n",
    "        self.box_len = box_len\n",
    "        self.box_wid = box_wid\n",
    "\n",
    "    def draw_elements_on_canvas(self):\n",
    "        # Initialize the canvas\n",
    "        self.canvas = np.ones(self.observation_shape)* 1\n",
    "\n",
    "        # Draw the boxes on the canvas\n",
    "        for elem in self.elements:\n",
    "            elem_shape = elem.boxes.shape\n",
    "            x, y = elem.x, elem.y\n",
    "            self.canvas[y : y + elem_shape[1],\n",
    "                        x : x + elem_shape[0]] = elem.boxes\n",
    "\n",
    "    def overlapping(self, elem1, elem2):\n",
    "        # NEED TO LOOP OVER ALL BOXES IN CONTAINER\n",
    "        # returns True if elem1 & elem2 overlap\n",
    "        # defining boolean for whether there is overlap\n",
    "        x_overlap = False\n",
    "        y_overlab = False\n",
    "\n",
    "        elem1_x, elem1_y = elem1.get_position()\n",
    "        elem2_x, elem2_y = elem2.get_position()\n",
    "\n",
    "        # absolute distance between each dimension\n",
    "        dist_x = abs(elem1_x - elem2_x)\n",
    "        dist_y = abs(elem1_y - elem2_y)\n",
    "\n",
    "        # minimum distance is 1/2 of each boxes' length or width\n",
    "        elem_y_min = 0.5 * (elem1.box_wid + elem2.box_wid)\n",
    "        elem_x_min = 0.5 * (elem1.box_len + elem2.box_len)\n",
    "\n",
    "        if (dist_x < elem_x_min):\n",
    "            x_overlap = True\n",
    "        if (dist_y < elem_y_min):\n",
    "            y_overlap = True\n",
    "\n",
    "        if x_overlap and y_overlab:\n",
    "            return True\n",
    "\n",
    "        return False\n",
    "    \n",
    "    def reset(self):\n",
    "        # Reset the reward\n",
    "        self.ep_return = 0\n",
    "\n",
    "        # Number of boxes\n",
    "        self.boxes_count = 1\n",
    "\n",
    "        # Determine a random place to initialize the first box\n",
    "        # along one side of the container\n",
    "        x = random.randrange(int(self.observation_shape[0] * 0.05),\n",
    "                             int(self.observation_shape[0] * 1.0))\n",
    "        y = random.randrange(int(self.observation_shape[1] * 0.05),\n",
    "                             int(self.observation_shape[1] * \n",
    "                             1.0 )) # Would like to change this to box_len/observation_shape[1]\n",
    "        self.boxes = Boxes('boxes', self.x_max, self.x_min, self.y_max, self.y_min, self.box_len, self.box_wid)\n",
    "        self.boxes.set_position(x, y)          \n",
    "\n",
    "        # Intialize the elements\n",
    "        self.elements = [self.boxes]\n",
    "\n",
    "        # Reset the canvas\n",
    "        self.canvas = np.ones(self.observation_shape) * 1\n",
    "\n",
    "        # Draw elements on the canvas\n",
    "        self.draw_elements_on_canvas()\n",
    "\n",
    "        # return the observation of the state of the container\n",
    "        return self.canvas"
   ]
  },
  {
   "cell_type": "markdown",
   "metadata": {},
   "source": [
    "### Elements of the Environment - Boxes\n",
    "* Starting with a `Point` base class to define any arbitrary point in the observation image.\n",
    "* It has the following attribures:\n",
    "    * `(x, y)`: position of the point on the image.\n",
    "    * `(x_min, x_max, y_min, y_max)`: the permissible coordicates for the points - keeps the position values clamped to these limits.\n",
    "    * `name` : name of the point\n",
    "* Member functions are defined as:\n",
    "    * `get_position` : get the coordinate of the point.\n",
    "    * `set_position` : set the coordinate of the point to a certain value\n",
    "    * `move` ?  - maybe we can call it `rotate` when we need it?"
   ]
  },
  {
   "cell_type": "code",
   "execution_count": 17,
   "metadata": {},
   "outputs": [],
   "source": [
    "class Point(object):\n",
    "    def __init__(self, name, x_max, x_min, y_max, y_min, box_len, box_wid):\n",
    "        self.x = 0\n",
    "        self.y = 0\n",
    "        self.x_min = x_min\n",
    "        self.x_max = x_max\n",
    "        self.y_min = y_min\n",
    "        self.y_max = y_max\n",
    "        self.box_len = box_len\n",
    "        self.box_wid = box_wid\n",
    "\n",
    "    def set_position(self, x, y):\n",
    "        # use box width (box_wid) and length (box_len)\n",
    "        # Dimensions will be (x, y, z) so box is (box_len, box_wid, box_high)\n",
    "        self.x = self.clamp(x, self.x_min, self.x_max - self.box_len)\n",
    "        self.y = self.clamp(y, self.y_min, self.y_max - self.box_wid)\n",
    "\n",
    "    def get_position(self):\n",
    "        return (self.x, self.y)\n",
    "\n",
    "    # rot_ang is the rotational angle in radians - for 2D: pi/2\n",
    "    def rotate_xy(self, rot_ang):\n",
    "        self.x += np.cos(rot_ang)\n",
    "        self.y += np.sin(rot_ang)\n",
    "\n",
    "        self.x = self.clamp(self.x, self.x_min, self.x_max - self.box_len)\n",
    "        self.y = self.clamp(self.y, self.y_min, self.y_max - self.box_wid)\n",
    "\n",
    "    # Here's the much needed part - clamp - to be sure boxes are in the container\n",
    "    def clamp(self, n, minn, maxn):\n",
    "        return (max(min(maxn, n), minn))"
   ]
  },
  {
   "cell_type": "markdown",
   "metadata": {},
   "source": [
    "### The objects are boxes and need to have the attributes:\n",
    "* `boxes` - the 2D footprint of a box \n",
    "* `(box_len, box_wid)` - the dimensions of the footprint of the box."
   ]
  },
  {
   "cell_type": "code",
   "execution_count": 18,
   "metadata": {},
   "outputs": [],
   "source": [
    "class Boxes(Point):\n",
    "    def __init__(self, name, x_max, x_min, y_max, y_min, box_len, box_wid):\n",
    "        super(Boxes, self).__init__(name, x_max, x_min, y_max, y_min, box_len, box_wid)\n",
    "        # self.boxes = cv2.imread('./images/4072102_box_delivery_package_parcel_shipping_icon.png') / 255.0\n",
    "        self.boxes = cv2.imread('./images/Smiley_Square.png') / 255.0\n",
    "        self.box_len = box_len\n",
    "        self.box_wid = box_wid\n",
    "        self.boxes = cv2.resize(self.boxes, (self.box_len, self.box_wid))\n"
   ]
  },
  {
   "cell_type": "markdown",
   "metadata": {},
   "source": [
    "#### Observing initial container"
   ]
  },
  {
   "cell_type": "code",
   "execution_count": 19,
   "metadata": {},
   "outputs": [
    {
     "name": "stdout",
     "output_type": "stream",
     "text": [
      "original numbers 200 200\n",
      "len, wid 200 200\n"
     ]
    },
    {
     "name": "stderr",
     "output_type": "stream",
     "text": [
      "/home/cim/anaconda3/envs/packing_env/lib/python3.7/site-packages/ipykernel_launcher.py:7: DeprecationWarning: Passing None into shape arguments as an alias for () is deprecated.\n",
      "  import sys\n"
     ]
    },
    {
     "data": {
      "text/plain": [
       "<matplotlib.image.AxesImage at 0x7f763c477d90>"
      ]
     },
     "execution_count": 19,
     "metadata": {},
     "output_type": "execute_result"
    },
    {
     "data": {
      "image/png": "[encoded data removed]",
      "text/plain": [
       "<Figure size 432x288 with 1 Axes>"
      ]
     },
     "metadata": {
      "needs_background": "light"
     },
     "output_type": "display_data"
    }
   ],
   "source": [
    "env = ContainerLevel()\n",
    "obs = env.reset()\n",
    "plt.imshow(obs)"
   ]
  },
  {
   "cell_type": "markdown",
   "metadata": {},
   "source": [
    "Since our agent will be placing boxes, we need a function to determine whether any newly placed `Point` objects have overlapped any existing objects."
   ]
  },
  {
   "cell_type": "markdown",
   "metadata": {},
   "source": [
    "Now working on an agent. Our agent will be placing boxes into the container. Adding a definition of possible actions: *place*, *rotate right*, and *rotate left*. "
   ]
  },
  {
   "cell_type": "markdown",
   "metadata": {},
   "source": [
    "Currently unclear on how to add that functionality. Continuing."
   ]
  },
  {
   "cell_type": "code",
   "execution_count": null,
   "metadata": {},
   "outputs": [],
   "source": [
    "%%add_to ContainerLevel\n",
    "\n",
    "def action_meanings(self):\n",
    "    return{0: 'PlaceBox', 1: 'PickUpBox',\n",
    "            2: 'MoveBoxRight', 3: 'MoveBoxLeft',\n",
    "            4: 'MoveBoxUp', 5: 'MoveBoxDown',\n",
    "            6:'RotateRight', 7: 'RotateLeft'}"
   ]
  },
  {
   "cell_type": "markdown",
   "metadata": {},
   "source": [
    "How to see if the action is valid."
   ]
  },
  {
   "cell_type": "code",
   "execution_count": null,
   "metadata": {},
   "outputs": [],
   "source": [
    "# Assert that is is a valid action\n",
    "assert self.action_space.contains(action), \"Invalid Action\""
   ]
  },
  {
   "cell_type": "markdown",
   "metadata": {},
   "source": [
    "How to determine if there is overlap. If the centers of the two boxes are closer than the length for the x coordinates or the width for the y coordinates, there is overlap.\n",
    "\n",
    "Also, the overlap will need to be checked with all boxes in the container, so this will need to be looped over for the number of boxes already in the container.\n",
    "\n",
    "\n",
    "```\n",
    "def overlapping(self, elem1, elem2):\n",
    "    # returns True if elem1 & elem2 overlap\n",
    "    # defining boolean for whether there is overlap\n",
    "    x_overlap = False\n",
    "    y_overlap = False\n",
    "\n",
    "    elem1_x, elem1_y = elem1.get_position()\n",
    "    elem2_x, elem2_y = elem2.get_position()\n",
    "\n",
    "    # absolute distance between each dimension\n",
    "    dist_x = abs(elem1_x - elem2_x)\n",
    "    dist_y = abs(elem1_y - elem2_y)\n",
    "\n",
    "    # minimum distance is 1/2 of each boxes' length or width\n",
    "    elem_y_min = 0.5 * (elem1.box_wid + elem2.box_wid)\n",
    "    elem_x_min = 0.5 * (elem1.box_len + elem2.box_len)\n",
    "\n",
    "    if (dist_x < elem_x_min):\n",
    "        x_overlap = True\n",
    "    if (dist_y < elem_y_min):\n",
    "        y_overlap = True\n",
    "\n",
    "    if x_overlap and y_overlap:\n",
    "        return(True)\n",
    "\n",
    "    return(False)\n",
    "```"
   ]
  }
 ],
 "metadata": {
  "kernelspec": {
   "display_name": "Python 3.7.12 ('packing_env')",
   "language": "python",
   "name": "python3"
  },
  "language_info": {
   "codemirror_mode": {
    "name": "ipython",
    "version": 3
   },
   "file_extension": ".py",
   "mimetype": "text/x-python",
   "name": "python",
   "nbconvert_exporter": "python",
   "pygments_lexer": "ipython3",
   "version": "3.7.12"
  },
  "orig_nbformat": 4,
  "vscode": {
   "interpreter": {
    "hash": "986c4ab826e36f7fd70b540b62968821342fb0d06b7e0f483712ca6583018ee4"
   }
  }
 },
 "nbformat": 4,
 "nbformat_minor": 2
}
