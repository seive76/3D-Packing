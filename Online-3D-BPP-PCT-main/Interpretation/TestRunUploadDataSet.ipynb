{
 "cells": [
  {
   "cell_type": "code",
   "execution_count": null,
   "id": "7809405e",
   "metadata": {},
   "outputs": [],
   "source": [
    "# Test run loading data\n",
    "usage: main.py [-h] [--setting SETTING] [--lnes LNES]\n",
    "               [--internal-node-holder INTERNAL_NODE_HOLDER]\n",
    "               [--leaf-node-holder LEAF_NODE_HOLDER] [--shuffle SHUFFLE]\n",
    "               [--continuous] [--no-cuda] [--device DEVICE] [--seed SEED]\n",
    "               [--use-acktr USE_ACKTR] [--num-processes NUM_PROCESSES]\n",
    "               [--num-steps NUM_STEPS] [--learning-rate η]\n",
    "               [--actor-loss-coef ACTOR_LOSS_COEF]\n",
    "               [--critic-loss-coef CRITIC_LOSS_COEF]\n",
    "               [--max-grad-norm MAX_GRAD_NORM]\n",
    "               [--embedding-size EMBEDDING_SIZE] [--hidden-size HIDDEN_SIZE]\n",
    "               [--gat-layer-num GAT_LAYER_NUM] [--gamma γ]\n",
    "               [--model-save-interval MODEL_SAVE_INTERVAL]\n",
    "               [--model-update-interval MODEL_UPDATE_INTERVAL]\n",
    "               [--model-save-path MODEL_SAVE_PATH]\n",
    "               [--print-log-interval PRINT_LOG_INTERVAL] [--evaluate]\n",
    "               [--evaluation-episodes N] [--load-model]\n",
    "               [--model-path MODEL_PATH] [--load-dataset]\n",
    "               [--dataset-path DATASET_PATH] [--sample-from-distribution]\n",
    "               [--sample-left-bound a] [--sample-right-bound b]\n",
    "\n",
    "PCT arguments\n",
    "\n",
    "optional arguments:\n",
    "  -h, --help            show this help message and exit\n",
    "  --setting SETTING     Experiment setting, please see our paper for details\n",
    "  --lnes LNES           Leaf Node Expansion Schemes: EMS (recommend), EV, EP,\n",
    "                        CP, FC\n",
    "  --internal-node-holder INTERNAL_NODE_HOLDER\n",
    "                        Maximum number of internal nodes\n",
    "  --leaf-node-holder LEAF_NODE_HOLDER\n",
    "                        Maximum number of leaf nodes\n",
    "  --shuffle SHUFFLE     Randomly shuffle the leaf nodes\n",
    "  --continuous          Use continuous enviroment, otherwise the enviroment is\n",
    "                        discrete\n",
    "  --no-cuda             Forbidden cuda\n",
    "  --device DEVICE       Which GPU will be called\n",
    "  --seed SEED           Random seed\n",
    "  --use-acktr USE_ACKTR\n",
    "                        Use acktr, otherwise A2C\n",
    "  --num-processes NUM_PROCESSES\n",
    "                        The number of parallel processes used for training\n",
    "  --num-steps NUM_STEPS\n",
    "                        The rollout length for n-step training\n",
    "  --learning-rate η     Learning rate, only works for A2C\n",
    "  --actor-loss-coef ACTOR_LOSS_COEF\n",
    "                        The coefficient of actor loss\n",
    "  --critic-loss-coef CRITIC_LOSS_COEF\n",
    "                        The coefficient of critic loss\n",
    "  --max-grad-norm MAX_GRAD_NORM\n",
    "                        Max norm of gradients\n",
    "  --embedding-size EMBEDDING_SIZE\n",
    "                        Dimension of input embedding\n",
    "  --hidden-size HIDDEN_SIZE\n",
    "                        Dimension of hidden layers\n",
    "  --gat-layer-num GAT_LAYER_NUM\n",
    "                        The number GAT layers\n",
    "  --gamma γ             Discount factor\n",
    "  --model-save-interval MODEL_SAVE_INTERVAL\n",
    "                        How often to save the model\n",
    "  --model-update-interval MODEL_UPDATE_INTERVAL\n",
    "                        How often to create a new model\n",
    "  --model-save-path MODEL_SAVE_PATH\n",
    "                        The path to save the trained model\n",
    "  --print-log-interval PRINT_LOG_INTERVAL\n",
    "                        How often to print training logs\n",
    "  --evaluate            Evaluate only\n",
    "  --evaluation-episodes N\n",
    "                        Number of episodes evaluated\n",
    "  --load-model          Load the trained model\n",
    "  --model-path MODEL_PATH\n",
    "                        The path to load model\n",
    "  --load-dataset        Load an existing dataset, otherwise the data is\n",
    "                        generated on the fly\n",
    "  --dataset-path DATASET_PATH\n",
    "                        The path to load dataset\n",
    "  --sample-from-distribution\n",
    "                        Sample continuous item size from a uniform\n",
    "                        distribution U(a,b), otherwise sample items from\n",
    "                        'item_size_set' in 'givenData.py'\n",
    "  --sample-left-bound a\n",
    "                        The parametre a of distribution U(a,b)\n",
    "  --sample-right-bound b\n",
    "                        The parametre b of distribution U(a,b)"
   ]
  },
  {
   "cell_type": "code",
   "execution_count": 1,
   "id": "c88ac6e6",
   "metadata": {},
   "outputs": [
    {
     "name": "stdout",
     "output_type": "stream",
     "text": [
      "/bin/bash: /home/cim/anaconda3/envs/packing_env/lib/libtinfo.so.6: no version information available (required by /bin/bash)\r\n",
      "/mnt/c/Users/crist/Documents/3D-Packing/Online-3D-BPP-PCT-main\r\n"
     ]
    }
   ],
   "source": [
    "!pwd"
   ]
  },
  {
   "cell_type": "code",
   "execution_count": 4,
   "id": "9060a3fb",
   "metadata": {},
   "outputs": [
    {
     "name": "stdout",
     "output_type": "stream",
     "text": [
      "/bin/bash: /home/cim/anaconda3/envs/packing_env/lib/libtinfo.so.6: no version information available (required by /bin/bash)\r\n",
      "setting123_discrete.pt\tsetting2_discrete.pt\r\n"
     ]
    }
   ],
   "source": [
    "!ls set*"
   ]
  },
  {
   "cell_type": "code",
   "execution_count": 2,
   "id": "08375573",
   "metadata": {},
   "outputs": [
    {
     "name": "stdout",
     "output_type": "stream",
     "text": [
      "/bin/bash: /home/cim/anaconda3/envs/packing_env/lib/libtinfo.so.6: no version information available (required by /bin/bash)\n",
      "no change     /home/cim/anaconda3/condabin/conda\n",
      "no change     /home/cim/anaconda3/bin/conda\n",
      "no change     /home/cim/anaconda3/bin/conda-env\n",
      "no change     /home/cim/anaconda3/bin/activate\n",
      "no change     /home/cim/anaconda3/bin/deactivate\n",
      "no change     /home/cim/anaconda3/etc/profile.d/conda.sh\n",
      "no change     /home/cim/anaconda3/etc/fish/conf.d/conda.fish\n",
      "no change     /home/cim/anaconda3/shell/condabin/Conda.psm1\n",
      "no change     /home/cim/anaconda3/shell/condabin/conda-hook.ps1\n",
      "no change     /home/cim/anaconda3/lib/python3.9/site-packages/xontrib/conda.xsh\n",
      "no change     /home/cim/anaconda3/etc/profile.d/conda.csh\n",
      "no change     /home/cim/.bashrc\n",
      "No action taken.\n"
     ]
    }
   ],
   "source": [
    "!conda init bash"
   ]
  },
  {
   "cell_type": "code",
   "execution_count": 3,
   "id": "104280a3",
   "metadata": {},
   "outputs": [
    {
     "name": "stdout",
     "output_type": "stream",
     "text": [
      "/bin/bash: /home/cim/anaconda3/envs/packing_env/lib/libtinfo.so.6: no version information available (required by /bin/bash)\n",
      "\n",
      "CommandNotFoundError: Your shell has not been properly configured to use 'conda activate'.\n",
      "To initialize your shell, run\n",
      "\n",
      "    $ conda init <SHELL_NAME>\n",
      "\n",
      "Currently supported shells are:\n",
      "  - bash\n",
      "  - fish\n",
      "  - tcsh\n",
      "  - xonsh\n",
      "  - zsh\n",
      "  - powershell\n",
      "\n",
      "See 'conda init --help' for more information and options.\n",
      "\n",
      "IMPORTANT: You may need to close and restart your shell after running 'conda init'.\n",
      "\n",
      "\n"
     ]
    }
   ],
   "source": [
    "!conda activate packing_env"
   ]
  },
  {
   "cell_type": "code",
   "execution_count": 8,
   "id": "cf81e594",
   "metadata": {},
   "outputs": [
    {
     "name": "stdout",
     "output_type": "stream",
     "text": [
      "/bin/bash: /home/cim/anaconda3/envs/packing_env/lib/libtinfo.so.6: no version information available (required by /bin/bash)\n",
      "Please input the experiment name\n",
      "^C\n",
      "Traceback (most recent call last):\n",
      "  File \"main.py\", line 62, in <module>\n",
      "    main(args)\n",
      "  File \"main.py\", line 19, in main\n",
      "    custom = input('Please input the experiment name\\n')\n",
      "KeyboardInterrupt\n"
     ]
    }
   ],
   "source": [
    "!python main.py --model-save-interval 10 --no-cuda --load-dataset --dataset-path ./setting123_discrete.pt"
   ]
  },
  {
   "cell_type": "code",
   "execution_count": 9,
   "id": "5ac34419",
   "metadata": {},
   "outputs": [],
   "source": [
    "data = [(1, 1, 1), (1, 1, 2), (1, 1, 3), (1, 1, 4), (1, 1, 5), (1, 2, 1), (1, 2, 2), (1, 2, 3), (1, 2, 4), (1, 2, 5), (1, 3, 1), (1, 3, 2), (1, 3, 3), (1, 3, 4), (1, 3, 5), (1, 4, 1), (1, 4, 2), (1, 4, 3), (1, 4, 4), (1, 4, 5), (1, 5, 1), (1, 5, 2), (1, 5, 3), (1, 5, 4), (1, 5, 5), (2, 1, 1), (2, 1, 2), (2, 1, 3), (2, 1, 4), (2, 1, 5), (2, 2, 1), (2, 2, 2), (2, 2, 3), (2, 2, 4), (2, 2, 5), (2, 3, 1), (2, 3, 2), (2, 3, 3), (2, 3, 4), (2, 3, 5), (2, 4, 1), (2, 4, 2), (2, 4, 3), (2, 4, 4), (2, 4, 5), (2, 5, 1), (2, 5, 2), (2, 5, 3), (2, 5, 4), (2, 5, 5), (3, 1, 1), (3, 1, 2), (3, 1, 3), (3, 1, 4), (3, 1, 5), (3, 2, 1), (3, 2, 2), (3, 2, 3), (3, 2, 4), (3, 2, 5), (3, 3, 1), (3, 3, 2), (3, 3, 3), (3, 3, 4), (3, 3, 5), (3, 4, 1), (3, 4, 2), (3, 4, 3), (3, 4, 4), (3, 4, 5), (3, 5, 1), (3, 5, 2), (3, 5, 3), (3, 5, 4), (3, 5, 5), (4, 1, 1), (4, 1, 2), (4, 1, 3), (4, 1, 4), (4, 1, 5), (4, 2, 1), (4, 2, 2), (4, 2, 3), (4, 2, 4), (4, 2, 5), (4, 3, 1), (4, 3, 2), (4, 3, 3), (4, 3, 4), (4, 3, 5), (4, 4, 1), (4, 4, 2), (4, 4, 3), (4, 4, 4), (4, 4, 5), (4, 5, 1), (4, 5, 2), (4, 5, 3), (4, 5, 4), (4, 5, 5), (5, 1, 1), (5, 1, 2), (5, 1, 3), (5, 1, 4), (5, 1, 5), (5, 2, 1), (5, 2, 2), (5, 2, 3), (5, 2, 4), (5, 2, 5), (5, 3, 1), (5, 3, 2), (5, 3, 3), (5, 3, 4), (5, 3, 5), (5, 4, 1), (5, 4, 2), (5, 4, 3), (5, 4, 4), (5, 4, 5), (5, 5, 1), (5, 5, 2), (5, 5, 3), (5, 5, 4), (5, 5, 5)]\n"
   ]
  },
  {
   "cell_type": "code",
   "execution_count": 10,
   "id": "86f20508",
   "metadata": {},
   "outputs": [
    {
     "data": {
      "text/plain": [
       "[(1, 1, 1),\n",
       " (1, 1, 2),\n",
       " (1, 1, 3),\n",
       " (1, 1, 4),\n",
       " (1, 1, 5),\n",
       " (1, 2, 1),\n",
       " (1, 2, 2),\n",
       " (1, 2, 3),\n",
       " (1, 2, 4),\n",
       " (1, 2, 5),\n",
       " (1, 3, 1),\n",
       " (1, 3, 2),\n",
       " (1, 3, 3),\n",
       " (1, 3, 4),\n",
       " (1, 3, 5),\n",
       " (1, 4, 1),\n",
       " (1, 4, 2),\n",
       " (1, 4, 3),\n",
       " (1, 4, 4),\n",
       " (1, 4, 5),\n",
       " (1, 5, 1),\n",
       " (1, 5, 2),\n",
       " (1, 5, 3),\n",
       " (1, 5, 4),\n",
       " (1, 5, 5),\n",
       " (2, 1, 1),\n",
       " (2, 1, 2),\n",
       " (2, 1, 3),\n",
       " (2, 1, 4),\n",
       " (2, 1, 5),\n",
       " (2, 2, 1),\n",
       " (2, 2, 2),\n",
       " (2, 2, 3),\n",
       " (2, 2, 4),\n",
       " (2, 2, 5),\n",
       " (2, 3, 1),\n",
       " (2, 3, 2),\n",
       " (2, 3, 3),\n",
       " (2, 3, 4),\n",
       " (2, 3, 5),\n",
       " (2, 4, 1),\n",
       " (2, 4, 2),\n",
       " (2, 4, 3),\n",
       " (2, 4, 4),\n",
       " (2, 4, 5),\n",
       " (2, 5, 1),\n",
       " (2, 5, 2),\n",
       " (2, 5, 3),\n",
       " (2, 5, 4),\n",
       " (2, 5, 5),\n",
       " (3, 1, 1),\n",
       " (3, 1, 2),\n",
       " (3, 1, 3),\n",
       " (3, 1, 4),\n",
       " (3, 1, 5),\n",
       " (3, 2, 1),\n",
       " (3, 2, 2),\n",
       " (3, 2, 3),\n",
       " (3, 2, 4),\n",
       " (3, 2, 5),\n",
       " (3, 3, 1),\n",
       " (3, 3, 2),\n",
       " (3, 3, 3),\n",
       " (3, 3, 4),\n",
       " (3, 3, 5),\n",
       " (3, 4, 1),\n",
       " (3, 4, 2),\n",
       " (3, 4, 3),\n",
       " (3, 4, 4),\n",
       " (3, 4, 5),\n",
       " (3, 5, 1),\n",
       " (3, 5, 2),\n",
       " (3, 5, 3),\n",
       " (3, 5, 4),\n",
       " (3, 5, 5),\n",
       " (4, 1, 1),\n",
       " (4, 1, 2),\n",
       " (4, 1, 3),\n",
       " (4, 1, 4),\n",
       " (4, 1, 5),\n",
       " (4, 2, 1),\n",
       " (4, 2, 2),\n",
       " (4, 2, 3),\n",
       " (4, 2, 4),\n",
       " (4, 2, 5),\n",
       " (4, 3, 1),\n",
       " (4, 3, 2),\n",
       " (4, 3, 3),\n",
       " (4, 3, 4),\n",
       " (4, 3, 5),\n",
       " (4, 4, 1),\n",
       " (4, 4, 2),\n",
       " (4, 4, 3),\n",
       " (4, 4, 4),\n",
       " (4, 4, 5),\n",
       " (4, 5, 1),\n",
       " (4, 5, 2),\n",
       " (4, 5, 3),\n",
       " (4, 5, 4),\n",
       " (4, 5, 5),\n",
       " (5, 1, 1),\n",
       " (5, 1, 2),\n",
       " (5, 1, 3),\n",
       " (5, 1, 4),\n",
       " (5, 1, 5),\n",
       " (5, 2, 1),\n",
       " (5, 2, 2),\n",
       " (5, 2, 3),\n",
       " (5, 2, 4),\n",
       " (5, 2, 5),\n",
       " (5, 3, 1),\n",
       " (5, 3, 2),\n",
       " (5, 3, 3),\n",
       " (5, 3, 4),\n",
       " (5, 3, 5),\n",
       " (5, 4, 1),\n",
       " (5, 4, 2),\n",
       " (5, 4, 3),\n",
       " (5, 4, 4),\n",
       " (5, 4, 5),\n",
       " (5, 5, 1),\n",
       " (5, 5, 2),\n",
       " (5, 5, 3),\n",
       " (5, 5, 4),\n",
       " (5, 5, 5)]"
      ]
     },
     "execution_count": 10,
     "metadata": {},
     "output_type": "execute_result"
    }
   ],
   "source": [
    "data"
   ]
  },
  {
   "cell_type": "code",
   "execution_count": 11,
   "id": "e1fd6efa",
   "metadata": {},
   "outputs": [
    {
     "data": {
      "text/plain": [
       "125"
      ]
     },
     "execution_count": 11,
     "metadata": {},
     "output_type": "execute_result"
    }
   ],
   "source": [
    "len(data)"
   ]
  },
  {
   "cell_type": "markdown",
   "id": "99de6b7c",
   "metadata": {},
   "source": [
    "### Create dataset"
   ]
  },
  {
   "cell_type": "markdown",
   "id": "4c5eca42",
   "metadata": {},
   "source": [
    "create_givenData.py"
   ]
  },
  {
   "cell_type": "code",
   "execution_count": 10,
   "id": "5c4dbc03",
   "metadata": {},
   "outputs": [],
   "source": [
    "# container_size: A vector of length 3 describing the size of the container in the x, y, z dimension.\n",
    "# item_size_set:  A list records the size of each item. The size of each item is also described by a vector of length 3.\n",
    "\n",
    "from http.cookiejar import LWPCookieJar\n",
    "\n",
    "\n",
    "container_size = [10,10,10]\n",
    "\n",
    "lower = 1\n",
    "higher = 5 ## Change to have uniform boxes was 1-5, now 2-2\n",
    "resolution = 1\n",
    "item_size_set = []\n",
    "for i in range(lower, higher + 1):\n",
    "    for j in range(lower, higher + 1): ## Changing from + 1 to + 4 for large flat boxes.\n",
    "        for k in range(lower, higher + 1): ## Changing from + 1 to + 4 for large flat boxes.\n",
    "                item_size_set.append((i * resolution, j * resolution , k *  resolution))\n",
    "\n",
    "\n",
    "data = []\n",
    "for i in range(0, len(item_size_set)-1):\n",
    "    data.append((item_size_set[i][0],\n",
    "                 item_size_set[i][1],\n",
    "                 item_size_set[i][2]))\n",
    "    \n",
    "    data.append((item_size_set[i][1],\n",
    "                 item_size_set[i][2],\n",
    "                 item_size_set[i][0]))\n",
    "    \n",
    "    data.append((item_size_set[i][2],\n",
    "                 item_size_set[i][0],\n",
    "                 item_size_set[i][1]))\n",
    "                \n",
    "# print('[')\n",
    "# for i in range(0,len(item_size_set)-1):\n",
    "#     print(\"(\", item_size_set[i][0],\\\n",
    "#             \",\", item_size_set[i][1], \\\n",
    "#                 \",\", item_size_set[i][2], \"),\")\n",
    "#     print(\"(\", item_size_set[i][1],\\\n",
    "#             \",\", item_size_set[i][2], \\\n",
    "#                 \",\", item_size_set[i][0], \"),\")\n",
    "#     print(\"(\", item_size_set[i][2],\\\n",
    "#             \",\", item_size_set[i][0], \\\n",
    "#                 \",\", item_size_set[i][1], \"),\")\n",
    "\n",
    "\n",
    "\n",
    "# print(\"(\", item_size_set[len(item_size_set)-1][0],\\\n",
    "#         \",\", item_size_set[len(item_size_set)-1][1], \\\n",
    "#             \",\", item_size_set[len(item_size_set)-1][2], \"),\")\n",
    "# print(\"(\", item_size_set[len(item_size_set)-1][1],\\\n",
    "#         \",\", item_size_set[len(item_size_set)-1][2], \\\n",
    "#             \",\", item_size_set[len(item_size_set)-1][0], \"),\")\n",
    "# print(\"(\", item_size_set[len(item_size_set)-1][2],\\\n",
    "#         \",\", item_size_set[len(item_size_set)-1][0], \\\n",
    "#             \",\", item_size_set[len(item_size_set)-1][1], \")\")\n",
    "\n",
    "# print(']')"
   ]
  },
  {
   "cell_type": "code",
   "execution_count": 14,
   "id": "3f30b340",
   "metadata": {},
   "outputs": [
    {
     "name": "stdout",
     "output_type": "stream",
     "text": [
      "125\n",
      "3\n",
      "<class 'list'>\n",
      "<class 'tuple'>\n",
      "\n",
      "372\n",
      "3\n",
      "<class 'list'>\n",
      "<class 'tuple'>\n"
     ]
    }
   ],
   "source": [
    "print(len(item_size_set))\n",
    "print(len(item_size_set[0]))\n",
    "print(type(item_size_set))\n",
    "print(type(item_size_set[0]))\n",
    "\n",
    "print()\n",
    "print(len(data))\n",
    "print(len(data[0]))\n",
    "print(type(data))\n",
    "print(type(data[0]))"
   ]
  },
  {
   "cell_type": "code",
   "execution_count": 15,
   "id": "7f037d3c",
   "metadata": {},
   "outputs": [],
   "source": [
    "import torch"
   ]
  },
  {
   "cell_type": "code",
   "execution_count": 16,
   "id": "a8c3886d",
   "metadata": {},
   "outputs": [],
   "source": [
    "torch.save(item_size_set, 'default_item_size_set_10x10x10_1-5.pt')"
   ]
  },
  {
   "cell_type": "code",
   "execution_count": null,
   "id": "abceb0c5",
   "metadata": {},
   "outputs": [],
   "source": []
  }
 ],
 "metadata": {
  "kernelspec": {
   "display_name": "Python 3.8.10 64-bit",
   "language": "python",
   "name": "python3"
  },
  "language_info": {
   "codemirror_mode": {
    "name": "ipython",
    "version": 3
   },
   "file_extension": ".py",
   "mimetype": "text/x-python",
   "name": "python",
   "nbconvert_exporter": "python",
   "pygments_lexer": "ipython3",
   "version": "3.8.10"
  },
  "vscode": {
   "interpreter": {
    "hash": "916dbcbb3f70747c44a77c7bcd40155683ae19c65e1c03b4aa3499c5328201f1"
   }
  }
 },
 "nbformat": 4,
 "nbformat_minor": 5
}
