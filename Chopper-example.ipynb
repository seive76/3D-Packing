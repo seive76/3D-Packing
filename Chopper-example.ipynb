{
 "cells": [
  {
   "cell_type": "markdown",
   "metadata": {},
   "source": [
    "# Getting Started with OpenAI Gym: Creatin Custom Environments\n",
    "[From PaperspaceBlog](https://blog.paperspace.com/creating-custom-environments-openai-gym/)"
   ]
  },
  {
   "cell_type": "code",
   "execution_count": 1,
   "metadata": {},
   "outputs": [
    {
     "name": "stdout",
     "output_type": "stream",
     "text": [
      "/bin/bash: /home/cim/anaconda3/envs/packing_env/lib/libtinfo.so.6: no version information available (required by /bin/bash)\n",
      "Requirement already satisfied: opencv-python in /home/cim/anaconda3/envs/packing_env/lib/python3.7/site-packages (4.5.5.64)\n",
      "Requirement already satisfied: numpy>=1.14.5 in /home/cim/anaconda3/envs/packing_env/lib/python3.7/site-packages (from opencv-python) (1.21.4)\n",
      "/bin/bash: /home/cim/anaconda3/envs/packing_env/lib/libtinfo.so.6: no version information available (required by /bin/bash)\n",
      "Requirement already satisfied: pillow in /home/cim/anaconda3/envs/packing_env/lib/python3.7/site-packages (8.3.1)\n"
     ]
    }
   ],
   "source": [
    "!pip install opencv-python \n",
    "!pip install pillow"
   ]
  },
  {
   "cell_type": "code",
   "execution_count": 2,
   "metadata": {},
   "outputs": [
    {
     "name": "stderr",
     "output_type": "stream",
     "text": [
      "/home/cim/anaconda3/envs/packing_env/lib/python3.7/site-packages/ale_py/roms/__init__.py:89: DeprecationWarning: Automatic importing of atari-py roms won't be supported in future releases of ale-py. Please migrate over to using `ale-import-roms` OR an ALE-supported ROM package. To make this warning disappear you can run `ale-import-roms --import-from-pkg atari_py.atari_roms`.For more information see: https://github.com/mgbellemare/Arcade-Learning-Environment#rom-management\n",
      "  ROMS = resolve_roms()\n"
     ]
    }
   ],
   "source": [
    "import numpy as np \n",
    "import cv2 \n",
    "import matplotlib.pyplot as plt\n",
    "import PIL.Image as Image\n",
    "import gym\n",
    "import random\n",
    "\n",
    "from gym import Env, spaces\n",
    "import time\n",
    "\n",
    "font = cv2.FONT_HERSHEY_COMPLEX_SMALL "
   ]
  },
  {
   "cell_type": "markdown",
   "metadata": {},
   "source": [
    "It is a game environment where the agent is a Chopper pilot.\n",
    "1. The chopper has to cover as much distance as possible to the mamzimum reward and avoid birds.\n",
    "2. The episode terminates if there is a brid strike or the chopper runs out of fuel.\n",
    "3. There are float fuel tanks which the chopper can collect to refuel to 1000 L (full capacity)."
   ]
  },
  {
   "cell_type": "markdown",
   "metadata": {},
   "source": [
    "## Considerations\n",
    "* The observation space can be discrete or continous.\n",
    "* The action space can be discrete or continous.\n",
    "\n",
    "*Prefer this to be continous because this will be the closest to our environment, but don't know how to implement.*"
   ]
  },
  {
   "cell_type": "markdown",
   "metadata": {},
   "source": [
    "### ChopperScape Class"
   ]
  },
  {
   "cell_type": "markdown",
   "metadata": {},
   "source": [
    "* Define in the `__init__` function the observation and the action spaces.\n",
    "* Implement attribute `canvas` \n",
    "* Implement screen area `x_min, y_min, x_max, y_max`\n",
    "* Implement `elements` - this stores elements in the screen like the chopper, bird, fuel station.\n",
    "* Implement `max_fuel` to indicate the maximum fuel that the chopper can hold"
   ]
  },
  {
   "cell_type": "code",
   "execution_count": 3,
   "metadata": {},
   "outputs": [],
   "source": [
    "class ChopperScape(Env):\n",
    "    def __init__(self):\n",
    "        super(ChopperScape, self).__init__()\n",
    "\n",
    "        # Define 2D observation space\n",
    "        self.observation_shape = (600, 800, 3) # not sure what the 3 does\n",
    "        # Creates a continuous space (dtype = float64), with the low at zero and \n",
    "        # the high at 1 in the shape of the observation space\n",
    "        self.observation_space = spaces.Box(low = np.zeros(self.observation_shape), \n",
    "                                            high = np.ones(self.observation_shape),\n",
    "                                            dtype = np.float64)\n",
    "\n",
    "        # Define an action space ranging for 0 to 4\n",
    "        self.action_space = spaces.Discrete(6,) # Would like this to be continous\n",
    "\n",
    "        # Create a canvas to render the environment images upon\n",
    "        self.canvas = np.ones(self.observation_shape) * 1 # Why multiply by 1?\n",
    "\n",
    "        # Define elements present inside the enviroment\n",
    "        self.elements = []\n",
    "\n",
    "        # Maximum fuel the chopper can take\n",
    "        self.max_fuel = 1000\n",
    "\n",
    "        # Permissible area where the helicopter can be located \n",
    "        # Not sure how the int works when the space is multipllied by 0.1\n",
    "        self.y_min = int(self.observation_shape[0] * 0.1)\n",
    "        self.x_min = 0\n",
    "        self.y_max = int(self.observation_shape[0] * 0.9)\n",
    "        self.x_max = self.observation_shape[1]\n",
    "\n",
    "\n",
    "        "
   ]
  },
  {
   "cell_type": "markdown",
   "metadata": {},
   "source": [
    "### Elements of the Environment\n",
    "3 distinct elements\n",
    "* Chopper\n",
    "* Birds\n",
    "* Fuel Stations (floating)\n",
    "\n",
    "Implement all of this as separate classes that inherit from a common base class called `Point`."
   ]
  },
  {
   "cell_type": "markdown",
   "metadata": {},
   "source": [
    "### Point Base Class\n",
    "`Point` class is used to define any arbitrary point in the observation image. Define it with the following attributes:\n",
    "* `(x, y)`: position of the point on the image.\n",
    "* `(x_min, x_max, y_min, y_max)`: the permissible coordicates for the points - keeps the position values clamped to these limits. (We can use this to define our box).\n",
    "* `name`: name of the point.\n",
    "\n",
    "The following member functions for this class are defined as:\n",
    "* `get_position`: get the coordinate of the point.\n",
    "* `set_position`: set the coordinate of the point to a certain value.\n",
    "* `move`: move the points by a certain value."
   ]
  },
  {
   "cell_type": "code",
   "execution_count": null,
   "metadata": {},
   "outputs": [],
   "source": [
    "class Point(object):\n",
    "    def __init__(self, name, x_max, x_min, y_max, y_min):\n",
    "        self.x = 0\n",
    "        self.y = 0\n",
    "        self.x_min = x_min\n",
    "        self.x_max = x_max\n",
    "        self.y_min = y_min\n",
    "        self.y_max = y_max\n",
    "    \n",
    "    def set_position(self, x, y):\n",
    "        # icon_w is width of object character on screen\n",
    "        self.x = self.clamp(x, self.x_min, self.x_max - self.icon_w) \n",
    "        # icon_h is height of object character on screen\n",
    "        self.y = self.clamp(y, self.y_min, self.y_max - self.icon_h) \n",
    "        # We would probably have to set the icon_w and icon_h to box dimensions\n",
    "\n",
    "    def get_position(self):\n",
    "        return (self.x, self.y)\n",
    "\n",
    "    def move(self, del_x, del_y):\n",
    "        self.x += del_x\n",
    "        self.y += del_y\n",
    "\n",
    "        self.x = self.clamp(self.x, self.x_min, self.x_max - self.icon_w)\n",
    "        self.y = self.clamp(self.y, self.y_min, self.y_max - self.icon_h)\n",
    "\n",
    "    def clamp(self, n, minn, maxn):\n",
    "        return (max(min(maxn, n), minn))"
   ]
  },
  {
   "cell_type": "markdown",
   "metadata": {},
   "source": [
    "Now there is a general `Point` class to construct all of the objects in the environment."
   ]
  },
  {
   "cell_type": "markdown",
   "metadata": {},
   "source": [
    "### More items to add to ChopperScape Class\n",
    "Objects\n",
    "* `Chopper`\n",
    "* `Bird`\n",
    "* `Fuel`\n",
    "\n",
    "Also will need to add\n",
    "* `reset`\n",
    "* `step`"
   ]
  },
  {
   "cell_type": "markdown",
   "metadata": {},
   "source": [
    "The objects will inherit from the `Point` class and include some new attributes:\n",
    "* `icon` - the 2 dimensional icon that will display on the observation image.\n",
    "* `(icon_w, icon_h)` - the dimensions of the icon.  -- *We can use the dimensions of the box we're placing.*"
   ]
  },
  {
   "cell_type": "code",
   "execution_count": null,
   "metadata": {},
   "outputs": [],
   "source": [
    "class Chopper(Point, icon_w, icon_h):\n",
    "    def __init__(self, name, x_max, x_min, y_max, y_min):\n",
    "        super(Chopper, self).__init__(name, x_max, x_min, y_max, y_min)\n",
    "        self.icon = cv2.imread('chopper.png') / 255.0 # I think the 255.0 is for gray scale\n",
    "        icon_w = 64 # we will set this as a variable we can pass into the function\n",
    "        icon_h = 64 # again we will set this as a variable\n",
    "        self.icon = cv2.resize(self.icon, (self.icon_h, self.icon_w))\n",
    "\n",
    "class Bird(Point):\n",
    "    def __inti__(self, name, x_max, x_min, y_max, y_min):\n",
    "        super(Bird, self).__init__(name, x_max, x_min, y_max, y_min)\n",
    "        self.icon = cv2.imread('bird.png') / 255.0\n",
    "        self.icon_w = 32\n",
    "        self.icon_h = 32\n",
    "        self.icon = cv2.resize(self.icon, (self.icon_h, self.icon_w))\n",
    "\n",
    "class Fuel(Poinnt):\n",
    "    def __init__(self, name, x_max, x_min, y_max, y_min):\n",
    "        super(Fuel, self).__init__(name, x_max, x_min, y_max, y_min)\n",
    "        self.icon = cv2.imread('fuel.png') / 255.0\n",
    "        self.icon_w = 32\n",
    "        self.icon_h = 32\n",
    "        self.icon = cv2.resize(self.icon, (self.icon_h, self.icon_w))"
   ]
  },
  {
   "cell_type": "markdown",
   "metadata": {},
   "source": [
    "#### Adding to the `Chopper` class\n",
    "1. `reset` : resets the environment to its initial state and returns the initial observation\n",
    "2. `step` : Executes a step by applying an action in the environment.   \n",
    "    * Returns the new observation\n",
    "    * reward\n",
    "    * completion status\n",
    "    * and other information"
   ]
  },
  {
   "cell_type": "markdown",
   "metadata": {},
   "source": [
    "#### Reset Function\n",
    "Returns the chopper to the initial state - it is initialed randomly in an area in the top-left of our screen."
   ]
  },
  {
   "cell_type": "code",
   "execution_count": null,
   "metadata": {},
   "outputs": [],
   "source": []
  },
  {
   "cell_type": "markdown",
   "metadata": {},
   "source": []
  }
 ],
 "metadata": {
  "kernelspec": {
   "display_name": "Python 3.7.13 ('packing_env')",
   "language": "python",
   "name": "python3"
  },
  "language_info": {
   "codemirror_mode": {
    "name": "ipython",
    "version": 3
   },
   "file_extension": ".py",
   "mimetype": "text/x-python",
   "name": "python",
   "nbconvert_exporter": "python",
   "pygments_lexer": "ipython3",
   "version": "3.7.12"
  },
  "orig_nbformat": 4,
  "vscode": {
   "interpreter": {
    "hash": "986c4ab826e36f7fd70b540b62968821342fb0d06b7e0f483712ca6583018ee4"
   }
  }
 },
 "nbformat": 4,
 "nbformat_minor": 2
}
